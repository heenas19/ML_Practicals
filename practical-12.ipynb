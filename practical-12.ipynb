{
 "cells": [
  {
   "cell_type": "markdown",
   "id": "ebbb5e55",
   "metadata": {
    "_cell_guid": "b1076dfc-b9ad-4769-8c92-a6c4dae69d19",
    "_uuid": "8f2839f25d086af736a60e9eeb907d3b93b6e0e5",
    "papermill": {
     "duration": 0.002272,
     "end_time": "2023-11-06T04:46:02.369889",
     "exception": false,
     "start_time": "2023-11-06T04:46:02.367617",
     "status": "completed"
    },
    "tags": []
   },
   "source": [
    "# Write a Python program using Scikit-learn to print the keys, number of rows-columns, feature names and the description of the given data."
   ]
  },
  {
   "cell_type": "code",
   "execution_count": 1,
   "id": "b0531554",
   "metadata": {
    "execution": {
     "iopub.execute_input": "2023-11-06T04:46:02.375191Z",
     "iopub.status.busy": "2023-11-06T04:46:02.374709Z",
     "iopub.status.idle": "2023-11-06T04:46:03.826252Z",
     "shell.execute_reply": "2023-11-06T04:46:03.824385Z"
    },
    "papermill": {
     "duration": 1.457485,
     "end_time": "2023-11-06T04:46:03.828968",
     "exception": false,
     "start_time": "2023-11-06T04:46:02.371483",
     "status": "completed"
    },
    "tags": []
   },
   "outputs": [
    {
     "name": "stdout",
     "output_type": "stream",
     "text": [
      "Keys =  Index(['age', 'sex', 'bmi', 'bp', 's1', 's2', 's3', 's4', 's5', 's6',\n",
      "       'target'],\n",
      "      dtype='object')\n",
      "Number of Rows :  442\n",
      "Number of Rows :  11\n",
      "Feature Names :  Index(['age', 'sex', 'bmi', 'bp', 's1', 's2', 's3', 's4', 's5', 's6',\n",
      "       'target'],\n",
      "      dtype='object')\n",
      "Description :  .. _diabetes_dataset:\n",
      "\n",
      "Diabetes dataset\n",
      "----------------\n",
      "\n",
      "Ten baseline variables, age, sex, body mass index, average blood\n",
      "pressure, and six blood serum measurements were obtained for each of n =\n",
      "442 diabetes patients, as well as the response of interest, a\n",
      "quantitative measure of disease progression one year after baseline.\n",
      "\n",
      "**Data Set Characteristics:**\n",
      "\n",
      "  :Number of Instances: 442\n",
      "\n",
      "  :Number of Attributes: First 10 columns are numeric predictive values\n",
      "\n",
      "  :Target: Column 11 is a quantitative measure of disease progression one year after baseline\n",
      "\n",
      "  :Attribute Information:\n",
      "      - age     age in years\n",
      "      - sex\n",
      "      - bmi     body mass index\n",
      "      - bp      average blood pressure\n",
      "      - s1      tc, total serum cholesterol\n",
      "      - s2      ldl, low-density lipoproteins\n",
      "      - s3      hdl, high-density lipoproteins\n",
      "      - s4      tch, total cholesterol / HDL\n",
      "      - s5      ltg, possibly log of serum triglycerides level\n",
      "      - s6      glu, blood sugar level\n",
      "\n",
      "Note: Each of these 10 feature variables have been mean centered and scaled by the standard deviation times the square root of `n_samples` (i.e. the sum of squares of each column totals 1).\n",
      "\n",
      "Source URL:\n",
      "https://www4.stat.ncsu.edu/~boos/var.select/diabetes.html\n",
      "\n",
      "For more information see:\n",
      "Bradley Efron, Trevor Hastie, Iain Johnstone and Robert Tibshirani (2004) \"Least Angle Regression,\" Annals of Statistics (with discussion), 407-499.\n",
      "(https://web.stanford.edu/~hastie/Papers/LARS/LeastAngle_2002.pdf)\n",
      "\n"
     ]
    }
   ],
   "source": [
    "from sklearn.datasets import load_diabetes\n",
    "\n",
    "obj = load_diabetes(as_frame = True)\n",
    "df = obj.frame\n",
    "\n",
    "rows, columns = df.shape\n",
    "\n",
    "print(\"Keys = \",df.keys())\n",
    "print(\"Number of Rows : \",rows)\n",
    "print(\"Number of Rows : \",columns)\n",
    "print(\"Feature Names : \",df.columns)\n",
    "print(\"Description : \",obj.DESCR)"
   ]
  }
 ],
 "metadata": {
  "kernelspec": {
   "display_name": "Python 3",
   "language": "python",
   "name": "python3"
  },
  "language_info": {
   "codemirror_mode": {
    "name": "ipython",
    "version": 3
   },
   "file_extension": ".py",
   "mimetype": "text/x-python",
   "name": "python",
   "nbconvert_exporter": "python",
   "pygments_lexer": "ipython3",
   "version": "3.10.12"
  },
  "papermill": {
   "default_parameters": {},
   "duration": 5.191594,
   "end_time": "2023-11-06T04:46:04.553896",
   "environment_variables": {},
   "exception": null,
   "input_path": "__notebook__.ipynb",
   "output_path": "__notebook__.ipynb",
   "parameters": {},
   "start_time": "2023-11-06T04:45:59.362302",
   "version": "2.4.0"
  }
 },
 "nbformat": 4,
 "nbformat_minor": 5
}
