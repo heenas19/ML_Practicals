{
 "cells": [
  {
   "cell_type": "markdown",
   "id": "4e1c24c9",
   "metadata": {
    "papermill": {
     "duration": 0.004154,
     "end_time": "2023-11-06T05:00:20.182987",
     "exception": false,
     "start_time": "2023-11-06T05:00:20.178833",
     "status": "completed"
    },
    "tags": []
   },
   "source": [
    "# To create a dataframe from a dictionary and display it"
   ]
  },
  {
   "cell_type": "code",
   "execution_count": 1,
   "id": "57e16fdf",
   "metadata": {
    "execution": {
     "iopub.execute_input": "2023-11-06T05:00:20.194680Z",
     "iopub.status.busy": "2023-11-06T05:00:20.193968Z",
     "iopub.status.idle": "2023-11-06T05:00:20.644356Z",
     "shell.execute_reply": "2023-11-06T05:00:20.642826Z"
    },
    "papermill": {
     "duration": 0.460532,
     "end_time": "2023-11-06T05:00:20.647281",
     "exception": false,
     "start_time": "2023-11-06T05:00:20.186749",
     "status": "completed"
    },
    "tags": []
   },
   "outputs": [
    {
     "name": "stdout",
     "output_type": "stream",
     "text": [
      "          cars  Colors\n",
      "0       Bugati     Red\n",
      "1          BMW   Green\n",
      "2      Ferrari   White\n",
      "3  Lombarghini   Black\n",
      "4        Rolls    Blue\n",
      "5        Rovce  Yellow\n"
     ]
    }
   ],
   "source": [
    "import pandas as pd\n",
    "\n",
    "dict = {\"cars\": ['Bugati','BMW','Ferrari','Lombarghini','Rolls','Rovce'],\n",
    "        \"Colors\": ['Red','Green','White','Black','Blue','Yellow']}\n",
    "\n",
    "df = pd.DataFrame(dict)\n",
    "\n",
    "print(df)"
   ]
  },
  {
   "cell_type": "markdown",
   "id": "ffa4db87",
   "metadata": {
    "papermill": {
     "duration": 0.00337,
     "end_time": "2023-11-06T05:00:20.654435",
     "exception": false,
     "start_time": "2023-11-06T05:00:20.651065",
     "status": "completed"
    },
    "tags": []
   },
   "source": [
    "#  To sort the DataFrame first by 'name' in ascending order"
   ]
  },
  {
   "cell_type": "code",
   "execution_count": 2,
   "id": "8b055149",
   "metadata": {
    "execution": {
     "iopub.execute_input": "2023-11-06T05:00:20.663621Z",
     "iopub.status.busy": "2023-11-06T05:00:20.663097Z",
     "iopub.status.idle": "2023-11-06T05:00:20.683178Z",
     "shell.execute_reply": "2023-11-06T05:00:20.681812Z"
    },
    "papermill": {
     "duration": 0.028251,
     "end_time": "2023-11-06T05:00:20.686304",
     "exception": false,
     "start_time": "2023-11-06T05:00:20.658053",
     "status": "completed"
    },
    "tags": []
   },
   "outputs": [
    {
     "name": "stdout",
     "output_type": "stream",
     "text": [
      "    Id    name\n",
      "3  104  Dhrumi\n",
      "2  103     Jay\n",
      "5  106   Kushi\n",
      "0  101   Misti\n",
      "4  105  Priyal\n",
      "1  102   Vansh\n"
     ]
    }
   ],
   "source": [
    "import pandas as pd\n",
    "\n",
    "df = pd.DataFrame({'Id': [101,102,103,104,105,106],\n",
    "                    'name': ['Misti','Vansh','Jay','Dhrumi','Priyal','Kushi']})\n",
    "\n",
    "sort_df = df.sort_values(by=[\"name\"],ascending=True)\n",
    "                    \n",
    "print(sort_df)\n"
   ]
  },
  {
   "cell_type": "markdown",
   "id": "873832ef",
   "metadata": {
    "papermill": {
     "duration": 0.003594,
     "end_time": "2023-11-06T05:00:20.693765",
     "exception": false,
     "start_time": "2023-11-06T05:00:20.690171",
     "status": "completed"
    },
    "tags": []
   },
   "source": [
    "# To delete the one specific column from the DataFrame"
   ]
  },
  {
   "cell_type": "code",
   "execution_count": 3,
   "id": "be18fd3c",
   "metadata": {
    "execution": {
     "iopub.execute_input": "2023-11-06T05:00:20.703852Z",
     "iopub.status.busy": "2023-11-06T05:00:20.703469Z",
     "iopub.status.idle": "2023-11-06T05:00:20.715012Z",
     "shell.execute_reply": "2023-11-06T05:00:20.713830Z"
    },
    "papermill": {
     "duration": 0.020724,
     "end_time": "2023-11-06T05:00:20.718200",
     "exception": false,
     "start_time": "2023-11-06T05:00:20.697476",
     "status": "completed"
    },
    "tags": []
   },
   "outputs": [
    {
     "name": "stdout",
     "output_type": "stream",
     "text": [
      "Before Delete the column :\n",
      "\n",
      "   EmpId EmpName Department\n",
      "0   E01     Raj         IT\n",
      "1   E02    Atul         IT\n",
      "2   E03   Reena         HR\n",
      "3   E04  Ayushi   Accounts\n",
      "\n",
      "After Delete the column :\n",
      "\n",
      "   EmpId EmpName\n",
      "0   E01     Raj\n",
      "1   E02    Atul\n",
      "2   E03   Reena\n",
      "3   E04  Ayushi\n"
     ]
    }
   ],
   "source": [
    "import pandas as pd\n",
    "\n",
    "dict = {'EmpId' : ['E01','E02','E03','E04'],    \n",
    "       'EmpName' : ['Raj','Atul','Reena','Ayushi'],    \n",
    "       'Department' : ['IT','IT','HR','Accounts']}  \n",
    "\n",
    "df = pd.DataFrame(dict)\n",
    "\n",
    "print(\"Before Delete the column :\\n\\n\",df)\n",
    "\n",
    "del df['Department']\n",
    "\n",
    "print(\"\\nAfter Delete the column :\\n\\n\",df)"
   ]
  },
  {
   "cell_type": "markdown",
   "id": "207e51fb",
   "metadata": {
    "papermill": {
     "duration": 0.003476,
     "end_time": "2023-11-06T05:00:20.725645",
     "exception": false,
     "start_time": "2023-11-06T05:00:20.722169",
     "status": "completed"
    },
    "tags": []
   },
   "source": [
    "#  To write a DataFrame to CSV file using tab separator"
   ]
  },
  {
   "cell_type": "code",
   "execution_count": 4,
   "id": "d612f21d",
   "metadata": {
    "execution": {
     "iopub.execute_input": "2023-11-06T05:00:20.735121Z",
     "iopub.status.busy": "2023-11-06T05:00:20.734690Z",
     "iopub.status.idle": "2023-11-06T05:00:20.747816Z",
     "shell.execute_reply": "2023-11-06T05:00:20.746411Z"
    },
    "papermill": {
     "duration": 0.021526,
     "end_time": "2023-11-06T05:00:20.750872",
     "exception": false,
     "start_time": "2023-11-06T05:00:20.729346",
     "status": "completed"
    },
    "tags": []
   },
   "outputs": [
    {
     "name": "stdout",
     "output_type": "stream",
     "text": [
      "Data are converted in CSV form...\n"
     ]
    }
   ],
   "source": [
    "import pandas as pd\n",
    "\n",
    "dict = {\"cars\": ['Bugati','BMW','Ferrari','Lombarghini','Rolls','Rovce'],\n",
    "        \"Colors\": ['Red','Green','White','Black','Blue','Yellow']}\n",
    "\n",
    "df = pd.DataFrame(dict)\n",
    "\n",
    "df.to_csv(\"xyz.csv\",index=False,sep=\"\\t\")\n",
    "\n",
    "print(\"Data are converted in CSV form...\")"
   ]
  },
  {
   "cell_type": "code",
   "execution_count": null,
   "id": "67d0082a",
   "metadata": {
    "papermill": {
     "duration": 0.003797,
     "end_time": "2023-11-06T05:00:20.758892",
     "exception": false,
     "start_time": "2023-11-06T05:00:20.755095",
     "status": "completed"
    },
    "tags": []
   },
   "outputs": [],
   "source": []
  }
 ],
 "metadata": {
  "kernelspec": {
   "display_name": "Python 3",
   "language": "python",
   "name": "python3"
  },
  "language_info": {
   "codemirror_mode": {
    "name": "ipython",
    "version": 3
   },
   "file_extension": ".py",
   "mimetype": "text/x-python",
   "name": "python",
   "nbconvert_exporter": "python",
   "pygments_lexer": "ipython3",
   "version": "3.10.12"
  },
  "papermill": {
   "default_parameters": {},
   "duration": 4.944782,
   "end_time": "2023-11-06T05:00:21.288587",
   "environment_variables": {},
   "exception": null,
   "input_path": "__notebook__.ipynb",
   "output_path": "__notebook__.ipynb",
   "parameters": {},
   "start_time": "2023-11-06T05:00:16.343805",
   "version": "2.4.0"
  }
 },
 "nbformat": 4,
 "nbformat_minor": 5
}
