{
 "cells": [
  {
   "cell_type": "markdown",
   "id": "ffc03474",
   "metadata": {
    "_cell_guid": "b1076dfc-b9ad-4769-8c92-a6c4dae69d19",
    "_uuid": "8f2839f25d086af736a60e9eeb907d3b93b6e0e5",
    "papermill": {
     "duration": 0.002636,
     "end_time": "2023-10-24T06:41:02.881952",
     "exception": false,
     "start_time": "2023-10-24T06:41:02.879316",
     "status": "completed"
    },
    "tags": []
   },
   "source": [
    "# Write a Pandas program to create a plot of Open, High, Low, Close, Adjusted Closing prices and Volume of given company between two specific dates.\n"
   ]
  },
  {
   "cell_type": "code",
   "execution_count": 1,
   "id": "35989b2a",
   "metadata": {
    "execution": {
     "iopub.execute_input": "2023-10-24T06:41:02.888829Z",
     "iopub.status.busy": "2023-10-24T06:41:02.888190Z",
     "iopub.status.idle": "2023-10-24T06:41:03.798984Z",
     "shell.execute_reply": "2023-10-24T06:41:03.798158Z"
    },
    "papermill": {
     "duration": 0.918703,
     "end_time": "2023-10-24T06:41:03.802992",
     "exception": false,
     "start_time": "2023-10-24T06:41:02.884289",
     "status": "completed"
    },
    "tags": []
   },
   "outputs": [
    {
     "data": {
      "image/png": "[encoded data removed]",
      "text/plain": [
       "<Figure size 640x480 with 1 Axes>"
      ]
     },
     "metadata": {},
     "output_type": "display_data"
    }
   ],
   "source": [
    "import pandas as pd\n",
    "import matplotlib.pyplot as plt\n",
    "\n",
    "df = pd.read_csv(\"/kaggle/input/nifty50-stock-market-data/BAJAJ-AUTO.csv\", parse_dates=['Date'], index_col='Date')\n",
    "\n",
    "start_date = \"2010-01-01\"\n",
    "end_date = \"2010-01-30\"\n",
    "\n",
    "df = df[start_date:end_date]\n",
    "\n",
    "plt.figure()\n",
    "\n",
    "up = df[df['Close'] >= df['Open']]\n",
    "\n",
    "down = df[df['Close'] < df['Open']]\n",
    "\n",
    "col1 = 'red'\n",
    "\n",
    "col2 = 'blue'\n",
    "\n",
    "width = .3\n",
    "width2 = .03\n",
    "\n",
    "#  For up price\n",
    "plt.bar(up.index, up['Close'] - up['Open'], width, bottom=up['Open'], color=col1)\n",
    "plt.bar(up.index, up['High'] - up['Close'], width2, bottom=up['Close'], color=col1)\n",
    "plt.bar(up.index, up['Low'] - up['Open'], width2, bottom=up['Open'], color=col1)\n",
    "\n",
    "# For down price \n",
    "plt.bar(down.index, down['Close'] - down['Open'], width, bottom=down['Open'], color=col2)\n",
    "plt.bar(down.index, down['High'] - down['Open'], width2, bottom=down['Open'], color=col2)\n",
    "plt.bar(down.index, down['Low'] - down['Close'], width2, bottom=down['Close'], color=col2)\n",
    "\n",
    "plt.xticks(rotation=30, ha='right')\n",
    "\n",
    "plt.show()"
   ]
  },
  {
   "cell_type": "code",
   "execution_count": null,
   "id": "51c63bd9",
   "metadata": {
    "papermill": {
     "duration": 0.002146,
     "end_time": "2023-10-24T06:41:03.807629",
     "exception": false,
     "start_time": "2023-10-24T06:41:03.805483",
     "status": "completed"
    },
    "tags": []
   },
   "outputs": [],
   "source": []
  }
 ],
 "metadata": {
  "kernelspec": {
   "display_name": "Python 3",
   "language": "python",
   "name": "python3"
  },
  "language_info": {
   "codemirror_mode": {
    "name": "ipython",
    "version": 3
   },
   "file_extension": ".py",
   "mimetype": "text/x-python",
   "name": "python",
   "nbconvert_exporter": "python",
   "pygments_lexer": "ipython3",
   "version": "3.10.12"
  },
  "papermill": {
   "default_parameters": {},
   "duration": 5.022157,
   "end_time": "2023-10-24T06:41:04.230641",
   "environment_variables": {},
   "exception": null,
   "input_path": "__notebook__.ipynb",
   "output_path": "__notebook__.ipynb",
   "parameters": {},
   "start_time": "2023-10-24T06:40:59.208484",
   "version": "2.4.0"
  }
 },
 "nbformat": 4,
 "nbformat_minor": 5
}
